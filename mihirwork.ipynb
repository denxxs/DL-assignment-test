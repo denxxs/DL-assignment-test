{
  "nbformat": 4,
  "nbformat_minor": 0,
  "metadata": {
    "colab": {
      "provenance": [],
      "authorship_tag": "ABX9TyPZOe1ft3/ga1bnSDRTYbqJ",
      "include_colab_link": true
    },
    "kernelspec": {
      "name": "python3",
      "display_name": "Python 3"
    },
    "language_info": {
      "name": "python"
    }
  },
  "cells": [
    {
      "cell_type": "markdown",
      "metadata": {
        "id": "view-in-github",
        "colab_type": "text"
      },
      "source": [
        "<a href=\"https://colab.research.google.com/github/denxxs/DL-assignment-test/blob/main/mihirwork.ipynb\" target=\"_parent\"><img src=\"https://colab.research.google.com/assets/colab-badge.svg\" alt=\"Open In Colab\"/></a>"
      ]
    },
    {
      "cell_type": "code",
      "execution_count": null,
      "metadata": {
        "id": "FwfiIVonfYaE"
      },
      "outputs": [],
      "source": [
        "import pandas as pd\n",
        "from sklearn.model_selection import train_test_split\n",
        "from sklearn.impute import SimpleImputer\n",
        "from sklearn.preprocessing import StandardScaler, OneHotEncoder\n",
        "from sklearn.compose import ColumnTransformer\n",
        "from sklearn.pipeline import Pipeline\n",
        "from sklearn.metrics import roc_auc_score, roc_curve, accuracy_score, recall_score, confusion_matrix\n",
        "from imblearn.over_sampling import SMOTE\n",
        "from imblearn.pipeline import make_pipeline as make_imbalance_pipeline\n",
        "from tensorflow.keras.models import Sequential\n",
        "from tensorflow.keras.layers import Dense, Dropout\n",
        "import matplotlib.pyplot as plt"
      ]
    },
    {
      "cell_type": "code",
      "source": [
        "# Load the data\n",
        "loan_data = pd.read_csv('loan_data (1).csv')"
      ],
      "metadata": {
        "id": "E0rMpdr0f4vo"
      },
      "execution_count": null,
      "outputs": []
    },
    {
      "cell_type": "code",
      "source": [
        "# Separate the features and the target variable\n",
        "X = loan_data.drop(columns=['TARGET'])\n",
        "y = loan_data['TARGET']"
      ],
      "metadata": {
        "id": "GPfI91_Yf8HT"
      },
      "execution_count": null,
      "outputs": []
    },
    {
      "cell_type": "code",
      "source": [
        "# Define the numerical and categorical columns\n",
        "numeric_cols = X.select_dtypes(include=['int64', 'float64']).columns.tolist()\n",
        "categorical_cols = X.select_dtypes(include=['object']).columns.tolist()\n"
      ],
      "metadata": {
        "id": "CrIBQy4d14n_"
      },
      "execution_count": null,
      "outputs": []
    },
    {
      "cell_type": "code",
      "source": [
        "# Create preprocessing pipelines for both numeric and categorical data\n",
        "numeric_transformer = Pipeline(steps=[\n",
        "    ('imputer', SimpleImputer(strategy='median')),\n",
        "    ('scaler', StandardScaler())])\n",
        "\n",
        "categorical_transformer = Pipeline(steps=[\n",
        "    ('imputer', SimpleImputer(strategy='most_frequent')),\n",
        "    ('onehot', OneHotEncoder(handle_unknown='ignore'))])"
      ],
      "metadata": {
        "id": "xKFrVufRf9Ry"
      },
      "execution_count": null,
      "outputs": []
    },
    {
      "cell_type": "code",
      "source": [
        "# Combine preprocessing steps\n",
        "preprocessor = ColumnTransformer(\n",
        "    transformers=[\n",
        "        ('num', numeric_transformer, numeric_cols),\n",
        "        ('cat', categorical_transformer, categorical_cols)])"
      ],
      "metadata": {
        "id": "60807E21f-gd"
      },
      "execution_count": null,
      "outputs": []
    },
    {
      "cell_type": "code",
      "source": [
        "# Create a preprocessing and SMOTE pipeline\n",
        "pipeline = make_imbalance_pipeline(\n",
        "    preprocessor,\n",
        "    SMOTE(random_state=42))"
      ],
      "metadata": {
        "id": "eqSA7XMggAg3"
      },
      "execution_count": null,
      "outputs": []
    },
    {
      "cell_type": "code",
      "source": [
        "# Preprocess the data and apply SMOTE\n",
        "X_processed, y_processed = pipeline.fit_resample(X, y)"
      ],
      "metadata": {
        "id": "ANrL9mM02GcB"
      },
      "execution_count": null,
      "outputs": []
    },
    {
      "cell_type": "code",
      "source": [
        "# Split the dataset into training and testing sets\n",
        "X_train, X_test, y_train, y_test = train_test_split(X_processed, y_processed, test_size=0.2, random_state=42)\n"
      ],
      "metadata": {
        "id": "2T80lxc4BSVY"
      },
      "execution_count": null,
      "outputs": []
    },
    {
      "cell_type": "code",
      "source": [
        "# Define the deep learning model architecture\n",
        "model = Sequential([\n",
        "    Dense(256, activation='relu', input_shape=(X_train.shape[1],)),\n",
        "    Dropout(0.3),\n",
        "    Dense(128, activation='relu'),\n",
        "    Dropout(0.3),\n",
        "    Dense(64, activation='relu'),\n",
        "    Dense(1, activation='sigmoid')\n",
        "])"
      ],
      "metadata": {
        "id": "vLFFz6b9HTdo"
      },
      "execution_count": null,
      "outputs": []
    },
    {
      "cell_type": "code",
      "source": [
        "# Compile the model\n",
        "model.compile(optimizer='adam', loss='binary_crossentropy', metrics=['accuracy'])\n"
      ],
      "metadata": {
        "id": "Bs7UKsWnHUFc"
      },
      "execution_count": null,
      "outputs": []
    },
    {
      "cell_type": "code",
      "source": [
        "# Train the model\n",
        "history = model.fit(X_train, y_train, validation_split=0.2, epochs=100, batch_size=256, verbose=1)\n"
      ],
      "metadata": {
        "colab": {
          "base_uri": "https://localhost:8080/"
        },
        "id": "qXrr83MVHVNH",
        "outputId": "cd9e411f-e5db-4485-fa17-70eb93affc4f"
      },
      "execution_count": null,
      "outputs": [
        {
          "output_type": "stream",
          "name": "stdout",
          "text": [
            "Epoch 1/100\n",
            "1414/1414 [==============================] - 20s 13ms/step - loss: 0.5414 - accuracy: 0.7288 - val_loss: 0.4586 - val_accuracy: 0.7857\n",
            "Epoch 2/100\n",
            "1414/1414 [==============================] - 26s 18ms/step - loss: 0.4462 - accuracy: 0.7926 - val_loss: 0.3760 - val_accuracy: 0.8329\n",
            "Epoch 3/100\n",
            "1414/1414 [==============================] - 29s 20ms/step - loss: 0.3934 - accuracy: 0.8225 - val_loss: 0.3414 - val_accuracy: 0.8517\n",
            "Epoch 4/100\n",
            "1414/1414 [==============================] - 18s 13ms/step - loss: 0.3631 - accuracy: 0.8379 - val_loss: 0.3133 - val_accuracy: 0.8651\n",
            "Epoch 5/100\n",
            "1414/1414 [==============================] - 14s 10ms/step - loss: 0.3422 - accuracy: 0.8493 - val_loss: 0.3002 - val_accuracy: 0.8740\n",
            "Epoch 6/100\n",
            "1414/1414 [==============================] - 15s 10ms/step - loss: 0.3247 - accuracy: 0.8578 - val_loss: 0.2866 - val_accuracy: 0.8814\n",
            "Epoch 7/100\n",
            "1414/1414 [==============================] - 15s 10ms/step - loss: 0.3107 - accuracy: 0.8647 - val_loss: 0.2714 - val_accuracy: 0.8863\n",
            "Epoch 8/100\n",
            "1414/1414 [==============================] - 14s 10ms/step - loss: 0.2976 - accuracy: 0.8713 - val_loss: 0.2603 - val_accuracy: 0.8897\n",
            "Epoch 9/100\n",
            "1414/1414 [==============================] - 15s 10ms/step - loss: 0.2869 - accuracy: 0.8767 - val_loss: 0.2517 - val_accuracy: 0.8971\n",
            "Epoch 10/100\n",
            "1414/1414 [==============================] - 17s 12ms/step - loss: 0.2764 - accuracy: 0.8816 - val_loss: 0.2436 - val_accuracy: 0.9020\n",
            "Epoch 11/100\n",
            "1414/1414 [==============================] - 15s 10ms/step - loss: 0.2671 - accuracy: 0.8859 - val_loss: 0.2334 - val_accuracy: 0.9046\n",
            "Epoch 12/100\n",
            "1414/1414 [==============================] - 15s 11ms/step - loss: 0.2610 - accuracy: 0.8890 - val_loss: 0.2317 - val_accuracy: 0.9052\n",
            "Epoch 13/100\n",
            "1414/1414 [==============================] - 15s 11ms/step - loss: 0.2541 - accuracy: 0.8920 - val_loss: 0.2258 - val_accuracy: 0.9095\n",
            "Epoch 14/100\n",
            "1414/1414 [==============================] - 15s 11ms/step - loss: 0.2476 - accuracy: 0.8953 - val_loss: 0.2246 - val_accuracy: 0.9100\n",
            "Epoch 15/100\n",
            "1414/1414 [==============================] - 15s 11ms/step - loss: 0.2424 - accuracy: 0.8980 - val_loss: 0.2165 - val_accuracy: 0.9133\n",
            "Epoch 16/100\n",
            "1414/1414 [==============================] - 16s 11ms/step - loss: 0.2381 - accuracy: 0.8996 - val_loss: 0.2116 - val_accuracy: 0.9149\n",
            "Epoch 17/100\n",
            "1414/1414 [==============================] - 15s 11ms/step - loss: 0.2335 - accuracy: 0.9025 - val_loss: 0.2091 - val_accuracy: 0.9169\n",
            "Epoch 18/100\n",
            "1414/1414 [==============================] - 15s 11ms/step - loss: 0.2308 - accuracy: 0.9034 - val_loss: 0.2055 - val_accuracy: 0.9172\n",
            "Epoch 19/100\n",
            "1414/1414 [==============================] - 16s 11ms/step - loss: 0.2267 - accuracy: 0.9054 - val_loss: 0.2084 - val_accuracy: 0.9181\n",
            "Epoch 20/100\n",
            "1414/1414 [==============================] - 16s 11ms/step - loss: 0.2241 - accuracy: 0.9066 - val_loss: 0.2047 - val_accuracy: 0.9184\n",
            "Epoch 21/100\n",
            "1414/1414 [==============================] - 16s 11ms/step - loss: 0.2202 - accuracy: 0.9087 - val_loss: 0.1994 - val_accuracy: 0.9205\n",
            "Epoch 22/100\n",
            "1414/1414 [==============================] - 16s 11ms/step - loss: 0.2176 - accuracy: 0.9101 - val_loss: 0.1972 - val_accuracy: 0.9207\n",
            "Epoch 23/100\n",
            "1414/1414 [==============================] - 15s 11ms/step - loss: 0.2154 - accuracy: 0.9109 - val_loss: 0.2001 - val_accuracy: 0.9195\n",
            "Epoch 24/100\n",
            "1414/1414 [==============================] - 15s 11ms/step - loss: 0.2125 - accuracy: 0.9123 - val_loss: 0.1941 - val_accuracy: 0.9229\n",
            "Epoch 25/100\n",
            "1414/1414 [==============================] - 15s 11ms/step - loss: 0.2111 - accuracy: 0.9132 - val_loss: 0.1947 - val_accuracy: 0.9241\n",
            "Epoch 26/100\n",
            "1414/1414 [==============================] - 15s 11ms/step - loss: 0.2083 - accuracy: 0.9142 - val_loss: 0.1920 - val_accuracy: 0.9240\n",
            "Epoch 27/100\n",
            "1414/1414 [==============================] - 15s 11ms/step - loss: 0.2064 - accuracy: 0.9153 - val_loss: 0.1905 - val_accuracy: 0.9252\n",
            "Epoch 28/100\n",
            "1414/1414 [==============================] - 15s 10ms/step - loss: 0.2046 - accuracy: 0.9159 - val_loss: 0.1915 - val_accuracy: 0.9256\n",
            "Epoch 29/100\n",
            "1414/1414 [==============================] - 15s 10ms/step - loss: 0.2024 - accuracy: 0.9171 - val_loss: 0.1914 - val_accuracy: 0.9253\n",
            "Epoch 30/100\n",
            "1414/1414 [==============================] - 15s 10ms/step - loss: 0.2009 - accuracy: 0.9180 - val_loss: 0.1868 - val_accuracy: 0.9258\n",
            "Epoch 31/100\n",
            "1414/1414 [==============================] - 15s 10ms/step - loss: 0.1990 - accuracy: 0.9189 - val_loss: 0.1877 - val_accuracy: 0.9258\n",
            "Epoch 32/100\n",
            "1414/1414 [==============================] - 15s 10ms/step - loss: 0.1976 - accuracy: 0.9194 - val_loss: 0.1857 - val_accuracy: 0.9266\n",
            "Epoch 33/100\n",
            "1414/1414 [==============================] - 15s 10ms/step - loss: 0.1963 - accuracy: 0.9197 - val_loss: 0.1843 - val_accuracy: 0.9276\n",
            "Epoch 34/100\n",
            "1414/1414 [==============================] - 15s 10ms/step - loss: 0.1955 - accuracy: 0.9203 - val_loss: 0.1844 - val_accuracy: 0.9279\n",
            "Epoch 35/100\n",
            "1414/1414 [==============================] - 15s 10ms/step - loss: 0.1943 - accuracy: 0.9207 - val_loss: 0.1850 - val_accuracy: 0.9276\n",
            "Epoch 36/100\n",
            "1414/1414 [==============================] - 15s 10ms/step - loss: 0.1932 - accuracy: 0.9212 - val_loss: 0.1849 - val_accuracy: 0.9277\n",
            "Epoch 37/100\n",
            "1414/1414 [==============================] - 14s 10ms/step - loss: 0.1911 - accuracy: 0.9221 - val_loss: 0.1831 - val_accuracy: 0.9282\n",
            "Epoch 38/100\n",
            "1414/1414 [==============================] - 15s 10ms/step - loss: 0.1908 - accuracy: 0.9224 - val_loss: 0.1872 - val_accuracy: 0.9268\n",
            "Epoch 39/100\n",
            "1414/1414 [==============================] - 14s 10ms/step - loss: 0.1895 - accuracy: 0.9226 - val_loss: 0.1806 - val_accuracy: 0.9290\n",
            "Epoch 40/100\n",
            "1414/1414 [==============================] - 15s 10ms/step - loss: 0.1887 - accuracy: 0.9232 - val_loss: 0.1807 - val_accuracy: 0.9293\n",
            "Epoch 41/100\n",
            "1414/1414 [==============================] - 15s 10ms/step - loss: 0.1871 - accuracy: 0.9239 - val_loss: 0.1786 - val_accuracy: 0.9302\n",
            "Epoch 42/100\n",
            "1414/1414 [==============================] - 15s 10ms/step - loss: 0.1855 - accuracy: 0.9245 - val_loss: 0.1812 - val_accuracy: 0.9290\n",
            "Epoch 43/100\n",
            "1414/1414 [==============================] - 15s 11ms/step - loss: 0.1854 - accuracy: 0.9245 - val_loss: 0.1802 - val_accuracy: 0.9296\n",
            "Epoch 44/100\n",
            "1414/1414 [==============================] - 15s 11ms/step - loss: 0.1848 - accuracy: 0.9249 - val_loss: 0.1786 - val_accuracy: 0.9301\n",
            "Epoch 45/100\n",
            "1414/1414 [==============================] - 15s 11ms/step - loss: 0.1836 - accuracy: 0.9254 - val_loss: 0.1802 - val_accuracy: 0.9311\n",
            "Epoch 46/100\n",
            "1414/1414 [==============================] - 15s 10ms/step - loss: 0.1832 - accuracy: 0.9254 - val_loss: 0.1774 - val_accuracy: 0.9304\n",
            "Epoch 47/100\n",
            "1414/1414 [==============================] - 15s 10ms/step - loss: 0.1821 - accuracy: 0.9262 - val_loss: 0.1768 - val_accuracy: 0.9312\n",
            "Epoch 48/100\n",
            "1414/1414 [==============================] - 15s 10ms/step - loss: 0.1800 - accuracy: 0.9276 - val_loss: 0.1761 - val_accuracy: 0.9317\n",
            "Epoch 49/100\n",
            "1414/1414 [==============================] - 15s 10ms/step - loss: 0.1808 - accuracy: 0.9269 - val_loss: 0.1759 - val_accuracy: 0.9321\n",
            "Epoch 50/100\n",
            "1414/1414 [==============================] - 14s 10ms/step - loss: 0.1780 - accuracy: 0.9281 - val_loss: 0.1750 - val_accuracy: 0.9312\n",
            "Epoch 51/100\n",
            "1414/1414 [==============================] - 15s 10ms/step - loss: 0.1798 - accuracy: 0.9274 - val_loss: 0.1733 - val_accuracy: 0.9331\n",
            "Epoch 52/100\n",
            "1414/1414 [==============================] - 15s 10ms/step - loss: 0.1776 - accuracy: 0.9277 - val_loss: 0.1756 - val_accuracy: 0.9306\n",
            "Epoch 53/100\n",
            "1414/1414 [==============================] - 14s 10ms/step - loss: 0.1777 - accuracy: 0.9279 - val_loss: 0.1750 - val_accuracy: 0.9317\n",
            "Epoch 54/100\n",
            "1414/1414 [==============================] - 14s 10ms/step - loss: 0.1768 - accuracy: 0.9286 - val_loss: 0.1730 - val_accuracy: 0.9331\n",
            "Epoch 55/100\n",
            "1414/1414 [==============================] - 15s 11ms/step - loss: 0.1763 - accuracy: 0.9288 - val_loss: 0.1734 - val_accuracy: 0.9327\n",
            "Epoch 56/100\n",
            "1414/1414 [==============================] - 15s 11ms/step - loss: 0.1751 - accuracy: 0.9289 - val_loss: 0.1772 - val_accuracy: 0.9307\n",
            "Epoch 57/100\n",
            "1414/1414 [==============================] - 15s 10ms/step - loss: 0.1753 - accuracy: 0.9291 - val_loss: 0.1730 - val_accuracy: 0.9334\n",
            "Epoch 58/100\n",
            "1414/1414 [==============================] - 15s 11ms/step - loss: 0.1746 - accuracy: 0.9292 - val_loss: 0.1762 - val_accuracy: 0.9315\n",
            "Epoch 59/100\n",
            "1414/1414 [==============================] - 15s 11ms/step - loss: 0.1733 - accuracy: 0.9299 - val_loss: 0.1743 - val_accuracy: 0.9316\n",
            "Epoch 60/100\n",
            "1414/1414 [==============================] - 15s 11ms/step - loss: 0.1729 - accuracy: 0.9304 - val_loss: 0.1736 - val_accuracy: 0.9328\n",
            "Epoch 61/100\n",
            "1414/1414 [==============================] - 15s 11ms/step - loss: 0.1722 - accuracy: 0.9309 - val_loss: 0.1746 - val_accuracy: 0.9321\n",
            "Epoch 62/100\n",
            "1414/1414 [==============================] - 15s 11ms/step - loss: 0.1719 - accuracy: 0.9309 - val_loss: 0.1730 - val_accuracy: 0.9320\n",
            "Epoch 63/100\n",
            "1414/1414 [==============================] - 15s 11ms/step - loss: 0.1712 - accuracy: 0.9310 - val_loss: 0.1722 - val_accuracy: 0.9326\n",
            "Epoch 64/100\n",
            "1414/1414 [==============================] - 15s 10ms/step - loss: 0.1700 - accuracy: 0.9316 - val_loss: 0.1713 - val_accuracy: 0.9334\n",
            "Epoch 65/100\n",
            "1414/1414 [==============================] - 15s 10ms/step - loss: 0.1709 - accuracy: 0.9307 - val_loss: 0.1734 - val_accuracy: 0.9328\n",
            "Epoch 66/100\n",
            "1414/1414 [==============================] - 15s 10ms/step - loss: 0.1701 - accuracy: 0.9315 - val_loss: 0.1711 - val_accuracy: 0.9341\n",
            "Epoch 67/100\n",
            "1414/1414 [==============================] - 15s 10ms/step - loss: 0.1693 - accuracy: 0.9318 - val_loss: 0.1721 - val_accuracy: 0.9326\n",
            "Epoch 68/100\n",
            "1414/1414 [==============================] - 15s 10ms/step - loss: 0.1691 - accuracy: 0.9321 - val_loss: 0.1706 - val_accuracy: 0.9336\n",
            "Epoch 69/100\n",
            "1414/1414 [==============================] - 15s 10ms/step - loss: 0.1687 - accuracy: 0.9319 - val_loss: 0.1709 - val_accuracy: 0.9331\n",
            "Epoch 70/100\n",
            "1414/1414 [==============================] - 15s 10ms/step - loss: 0.1683 - accuracy: 0.9322 - val_loss: 0.1745 - val_accuracy: 0.9309\n",
            "Epoch 71/100\n",
            "1414/1414 [==============================] - 15s 11ms/step - loss: 0.1678 - accuracy: 0.9326 - val_loss: 0.1718 - val_accuracy: 0.9325\n",
            "Epoch 72/100\n",
            "1414/1414 [==============================] - 15s 11ms/step - loss: 0.1663 - accuracy: 0.9331 - val_loss: 0.1701 - val_accuracy: 0.9321\n",
            "Epoch 73/100\n",
            "1414/1414 [==============================] - 15s 10ms/step - loss: 0.1664 - accuracy: 0.9328 - val_loss: 0.1735 - val_accuracy: 0.9317\n",
            "Epoch 74/100\n",
            "1414/1414 [==============================] - 15s 10ms/step - loss: 0.1671 - accuracy: 0.9330 - val_loss: 0.1708 - val_accuracy: 0.9339\n",
            "Epoch 75/100\n",
            "1414/1414 [==============================] - 15s 10ms/step - loss: 0.1664 - accuracy: 0.9334 - val_loss: 0.1695 - val_accuracy: 0.9347\n",
            "Epoch 76/100\n",
            "1414/1414 [==============================] - 15s 11ms/step - loss: 0.1656 - accuracy: 0.9339 - val_loss: 0.1700 - val_accuracy: 0.9343\n",
            "Epoch 77/100\n",
            "1414/1414 [==============================] - 15s 11ms/step - loss: 0.1647 - accuracy: 0.9342 - val_loss: 0.1707 - val_accuracy: 0.9329\n",
            "Epoch 78/100\n",
            "1414/1414 [==============================] - 15s 11ms/step - loss: 0.1646 - accuracy: 0.9340 - val_loss: 0.1672 - val_accuracy: 0.9358\n",
            "Epoch 79/100\n",
            "1414/1414 [==============================] - 15s 11ms/step - loss: 0.1639 - accuracy: 0.9341 - val_loss: 0.1697 - val_accuracy: 0.9333\n",
            "Epoch 80/100\n",
            "1414/1414 [==============================] - 15s 11ms/step - loss: 0.1632 - accuracy: 0.9345 - val_loss: 0.1706 - val_accuracy: 0.9335\n",
            "Epoch 81/100\n",
            "1414/1414 [==============================] - 15s 11ms/step - loss: 0.1637 - accuracy: 0.9345 - val_loss: 0.1707 - val_accuracy: 0.9333\n",
            "Epoch 82/100\n",
            "1414/1414 [==============================] - 17s 12ms/step - loss: 0.1635 - accuracy: 0.9344 - val_loss: 0.1673 - val_accuracy: 0.9352\n",
            "Epoch 83/100\n",
            "1414/1414 [==============================] - 16s 11ms/step - loss: 0.1623 - accuracy: 0.9348 - val_loss: 0.1684 - val_accuracy: 0.9346\n",
            "Epoch 84/100\n",
            "1414/1414 [==============================] - 16s 11ms/step - loss: 0.1625 - accuracy: 0.9345 - val_loss: 0.1683 - val_accuracy: 0.9349\n",
            "Epoch 85/100\n",
            "1414/1414 [==============================] - 15s 10ms/step - loss: 0.1626 - accuracy: 0.9346 - val_loss: 0.1702 - val_accuracy: 0.9347\n",
            "Epoch 86/100\n",
            "1414/1414 [==============================] - 15s 10ms/step - loss: 0.1615 - accuracy: 0.9353 - val_loss: 0.1679 - val_accuracy: 0.9340\n",
            "Epoch 87/100\n",
            "1414/1414 [==============================] - 15s 10ms/step - loss: 0.1622 - accuracy: 0.9348 - val_loss: 0.1693 - val_accuracy: 0.9351\n",
            "Epoch 88/100\n",
            "1414/1414 [==============================] - 15s 11ms/step - loss: 0.1604 - accuracy: 0.9357 - val_loss: 0.1685 - val_accuracy: 0.9345\n",
            "Epoch 89/100\n",
            "1414/1414 [==============================] - 15s 10ms/step - loss: 0.1608 - accuracy: 0.9354 - val_loss: 0.1689 - val_accuracy: 0.9344\n",
            "Epoch 90/100\n",
            "1414/1414 [==============================] - 15s 11ms/step - loss: 0.1605 - accuracy: 0.9356 - val_loss: 0.1705 - val_accuracy: 0.9342\n",
            "Epoch 91/100\n",
            "1414/1414 [==============================] - 15s 11ms/step - loss: 0.1604 - accuracy: 0.9363 - val_loss: 0.1673 - val_accuracy: 0.9359\n",
            "Epoch 92/100\n",
            "1414/1414 [==============================] - 15s 11ms/step - loss: 0.1590 - accuracy: 0.9362 - val_loss: 0.1664 - val_accuracy: 0.9352\n",
            "Epoch 93/100\n",
            "1414/1414 [==============================] - 15s 10ms/step - loss: 0.1597 - accuracy: 0.9359 - val_loss: 0.1676 - val_accuracy: 0.9352\n",
            "Epoch 94/100\n",
            "1414/1414 [==============================] - 15s 11ms/step - loss: 0.1603 - accuracy: 0.9359 - val_loss: 0.1684 - val_accuracy: 0.9349\n",
            "Epoch 95/100\n",
            "1414/1414 [==============================] - 15s 11ms/step - loss: 0.1589 - accuracy: 0.9362 - val_loss: 0.1676 - val_accuracy: 0.9358\n",
            "Epoch 96/100\n",
            "1414/1414 [==============================] - 15s 11ms/step - loss: 0.1592 - accuracy: 0.9361 - val_loss: 0.1679 - val_accuracy: 0.9344\n",
            "Epoch 97/100\n",
            "1414/1414 [==============================] - 15s 11ms/step - loss: 0.1591 - accuracy: 0.9366 - val_loss: 0.1666 - val_accuracy: 0.9355\n",
            "Epoch 98/100\n",
            "1414/1414 [==============================] - 15s 11ms/step - loss: 0.1588 - accuracy: 0.9364 - val_loss: 0.1672 - val_accuracy: 0.9345\n",
            "Epoch 99/100\n",
            "1414/1414 [==============================] - 15s 10ms/step - loss: 0.1591 - accuracy: 0.9367 - val_loss: 0.1673 - val_accuracy: 0.9354\n",
            "Epoch 100/100\n",
            "1414/1414 [==============================] - 15s 11ms/step - loss: 0.1587 - accuracy: 0.9364 - val_loss: 0.1671 - val_accuracy: 0.9357\n"
          ]
        }
      ]
    },
    {
      "cell_type": "code",
      "source": [
        "# Evaluate the model on the test set\n",
        "y_pred = model.predict(X_test) > 0.5"
      ],
      "metadata": {
        "colab": {
          "base_uri": "https://localhost:8080/"
        },
        "id": "Kog5mLeHHWbd",
        "outputId": "6e038d66-6957-41dd-888a-aff71f41a018"
      },
      "execution_count": null,
      "outputs": [
        {
          "output_type": "stream",
          "name": "stdout",
          "text": [
            "3534/3534 [==============================] - 9s 2ms/step\n"
          ]
        }
      ]
    },
    {
      "cell_type": "code",
      "source": [
        "# Calculate metrics\n",
        "accuracy = accuracy_score(y_test, y_pred)\n",
        "recall = recall_score(y_test, y_pred)\n",
        "roc_auc = roc_auc_score(y_test, y_pred)\n",
        "conf_matrix = confusion_matrix(y_test, y_pred)\n",
        "sensitivity = conf_matrix[1, 1] / (conf_matrix[1, 1] + conf_matrix[1, 0])\n"
      ],
      "metadata": {
        "id": "Qjb015DQHbgC"
      },
      "execution_count": null,
      "outputs": []
    },
    {
      "cell_type": "code",
      "source": [
        "# Print metrics\n",
        "print(f'Accuracy: {accuracy}')\n",
        "print(f'Recall: {recall}')\n",
        "print(f'Sensitivity: {sensitivity}')\n",
        "print(f'ROC AUC: {roc_auc}')"
      ],
      "metadata": {
        "colab": {
          "base_uri": "https://localhost:8080/"
        },
        "id": "DqlahA4MHcJs",
        "outputId": "b045a0f2-c667-496f-9dd3-4fa8b5fabf4d"
      },
      "execution_count": null,
      "outputs": [
        {
          "output_type": "stream",
          "name": "stdout",
          "text": [
            "Accuracy: 0.935281892549193\n",
            "Recall: 0.9135994623180459\n",
            "Sensitivity: 0.9135994623180459\n",
            "ROC AUC: 0.9352824678223879\n"
          ]
        }
      ]
    },
    {
      "cell_type": "code",
      "source": [
        "# Plot ROC curve\n",
        "fpr, tpr, _ = roc_curve(y_test, y_pred)\n",
        "plt.plot(fpr, tpr, label=f'ROC curve (area = {roc_auc:.2f})')\n",
        "plt.plot([0, 1], [0, 1], linestyle='--')\n",
        "plt.xlabel('False Positive Rate')\n",
        "plt.ylabel('True Positive Rate')\n",
        "plt.title('ROC Curve')\n",
        "plt.legend(loc='lower right')\n",
        "plt.show()"
      ],
      "metadata": {
        "colab": {
          "base_uri": "https://localhost:8080/",
          "height": 472
        },
        "id": "FO96SdNcHepy",
        "outputId": "ef086e55-0ae8-40c3-ab1c-5200b3313780"
      },
      "execution_count": null,
      "outputs": [
        {
          "output_type": "display_data",
          "data": {
            "text/plain": [
              "<Figure size 640x480 with 1 Axes>"
            ],
            "image/png": "[encoded data removed]"
          },
          "metadata": {}
        }
      ]
    },
    {
      "cell_type": "code",
      "source": [],
      "metadata": {
        "id": "eo8t6mTHNbd-"
      },
      "execution_count": null,
      "outputs": []
    }
  ]
}